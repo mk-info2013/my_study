{
 "cells": [
  {
   "cell_type": "code",
   "execution_count": null,
   "id": "e290234d",
   "metadata": {},
   "outputs": [],
   "source": [
    "# 1. Взять данные iris.csv"
   ]
  },
  {
   "cell_type": "code",
   "execution_count": null,
   "id": "cbeb35c8",
   "metadata": {},
   "outputs": [],
   "source": []
  },
  {
   "cell_type": "code",
   "execution_count": null,
   "id": "7adbfb1e",
   "metadata": {},
   "outputs": [],
   "source": [
    "# 2. Загрузить в pyspark"
   ]
  },
  {
   "cell_type": "code",
   "execution_count": null,
   "id": "f31a0494",
   "metadata": {},
   "outputs": [],
   "source": []
  },
  {
   "cell_type": "code",
   "execution_count": null,
   "id": "85b5fcd6",
   "metadata": {},
   "outputs": [],
   "source": [
    "# 3. При помощи VectorAssembler преобразовать все колонки с признаками в одну (использовать PipeLine)"
   ]
  },
  {
   "cell_type": "code",
   "execution_count": null,
   "id": "642dca46",
   "metadata": {},
   "outputs": [],
   "source": []
  },
  {
   "cell_type": "code",
   "execution_count": null,
   "id": "8f21fd65",
   "metadata": {},
   "outputs": [],
   "source": [
    "# 4. Разбить данные на train и test"
   ]
  },
  {
   "cell_type": "code",
   "execution_count": null,
   "id": "c89da3ce",
   "metadata": {},
   "outputs": [],
   "source": []
  },
  {
   "cell_type": "code",
   "execution_count": null,
   "id": "9760d264",
   "metadata": {},
   "outputs": [],
   "source": [
    "# 5. Создать модель логистической регресии и обучить ее"
   ]
  },
  {
   "cell_type": "code",
   "execution_count": null,
   "id": "9d1c5e8c",
   "metadata": {},
   "outputs": [],
   "source": []
  },
  {
   "cell_type": "code",
   "execution_count": null,
   "id": "a63dd21b",
   "metadata": {},
   "outputs": [],
   "source": [
    "# 6. Воспользоваться MulticlassClassificationEvaluator для оценки качества на train и test множестве"
   ]
  },
  {
   "cell_type": "code",
   "execution_count": null,
   "id": "a5221d6a",
   "metadata": {},
   "outputs": [],
   "source": []
  },
  {
   "cell_type": "code",
   "execution_count": null,
   "id": "f750880f",
   "metadata": {},
   "outputs": [],
   "source": []
  }
 ],
 "metadata": {
  "kernelspec": {
   "display_name": "Python 3",
   "language": "python",
   "name": "python3"
  },
  "language_info": {
   "codemirror_mode": {
    "name": "ipython",
    "version": 3
   },
   "file_extension": ".py",
   "mimetype": "text/x-python",
   "name": "python",
   "nbconvert_exporter": "python",
   "pygments_lexer": "ipython3",
   "version": "3.8.8"
  }
 },
 "nbformat": 4,
 "nbformat_minor": 5
}
