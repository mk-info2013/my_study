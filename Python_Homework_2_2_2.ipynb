{
 "cells": [
  {
   "cell_type": "markdown",
   "id": "65a9c8a3",
   "metadata": {},
   "source": [
    "# ДЗ 2.2.2"
   ]
  },
  {
   "cell_type": "code",
   "execution_count": 2,
   "id": "0028ef99",
   "metadata": {},
   "outputs": [],
   "source": [
    "import numpy as np"
   ]
  },
  {
   "cell_type": "code",
   "execution_count": 2,
   "id": "37d25c3e",
   "metadata": {},
   "outputs": [],
   "source": [
    "# 1. Статистики атрибутов"
   ]
  },
  {
   "cell_type": "code",
   "execution_count": 3,
   "id": "c0073025",
   "metadata": {},
   "outputs": [
    {
     "data": {
      "text/plain": [
       "array([['5.1', '3.5', '1.4', '0.2', 'Iris-setosa'],\n",
       "       ['4.9', '3.0', '1.4', '0.2', 'Iris-setosa'],\n",
       "       ['4.7', '3.2', '1.3', '0.2', 'Iris-setosa'],\n",
       "       ['4.6', '3.1', '1.5', '0.2', 'Iris-setosa'],\n",
       "       ['5.0', '3.6', '1.4', '0.2', 'Iris-setosa'],\n",
       "       ['5.4', '3.9', '1.7', '0.4', 'Iris-setosa'],\n",
       "       ['4.6', '3.4', '1.4', '0.3', 'Iris-setosa'],\n",
       "       ['5.0', '3.4', '1.5', '0.2', 'Iris-setosa'],\n",
       "       ['4.4', '2.9', '1.4', '0.2', 'Iris-setosa'],\n",
       "       ['4.9', '3.1', '1.5', '0.1', 'Iris-setosa'],\n",
       "       ['5.4', '3.7', '1.5', '0.2', 'Iris-setosa'],\n",
       "       ['4.8', '3.4', '1.6', '0.2', 'Iris-setosa'],\n",
       "       ['4.8', '3.0', '1.4', '0.1', 'Iris-setosa'],\n",
       "       ['4.3', '3.0', '1.1', '0.1', 'Iris-setosa'],\n",
       "       ['5.8', '4.0', '1.2', '0.2', 'Iris-setosa'],\n",
       "       ['5.7', '4.4', '1.5', '0.4', 'Iris-setosa'],\n",
       "       ['5.4', '3.9', '1.3', '0.4', 'Iris-setosa'],\n",
       "       ['5.1', '3.5', '1.4', '0.3', 'Iris-setosa'],\n",
       "       ['5.7', '3.8', '1.7', '0.3', 'Iris-setosa'],\n",
       "       ['5.1', '3.8', '1.5', '0.3', 'Iris-setosa'],\n",
       "       ['5.4', '3.4', '1.7', '0.2', 'Iris-setosa'],\n",
       "       ['5.1', '3.7', '1.5', '0.4', 'Iris-setosa'],\n",
       "       ['4.6', '3.6', '1.0', '0.2', 'Iris-setosa'],\n",
       "       ['5.1', '3.3', '1.7', '0.5', 'Iris-setosa'],\n",
       "       ['4.8', '3.4', '1.9', '0.2', 'Iris-setosa'],\n",
       "       ['5.0', '3.0', '1.6', '0.2', 'Iris-setosa'],\n",
       "       ['5.0', '3.4', '1.6', '0.4', 'Iris-setosa'],\n",
       "       ['5.2', '3.5', '1.5', '0.2', 'Iris-setosa'],\n",
       "       ['5.2', '3.4', '1.4', '0.2', 'Iris-setosa'],\n",
       "       ['4.7', '3.2', '1.6', '0.2', 'Iris-setosa'],\n",
       "       ['4.8', '3.1', '1.6', '0.2', 'Iris-setosa'],\n",
       "       ['5.4', '3.4', '1.5', '0.4', 'Iris-setosa'],\n",
       "       ['5.2', '4.1', '1.5', '0.1', 'Iris-setosa'],\n",
       "       ['5.5', '4.2', '1.4', '0.2', 'Iris-setosa'],\n",
       "       ['4.9', '3.1', '1.5', '0.1', 'Iris-setosa'],\n",
       "       ['5.0', '3.2', '1.2', '0.2', 'Iris-setosa'],\n",
       "       ['5.5', '3.5', '1.3', '0.2', 'Iris-setosa'],\n",
       "       ['4.9', '3.1', '1.5', '0.1', 'Iris-setosa'],\n",
       "       ['4.4', '3.0', '1.3', '0.2', 'Iris-setosa'],\n",
       "       ['5.1', '3.4', '1.5', '0.2', 'Iris-setosa'],\n",
       "       ['5.0', '3.5', '1.3', '0.3', 'Iris-setosa'],\n",
       "       ['4.5', '2.3', '1.3', '0.3', 'Iris-setosa'],\n",
       "       ['4.4', '3.2', '1.3', '0.2', 'Iris-setosa'],\n",
       "       ['5.0', '3.5', '1.6', '0.6', 'Iris-setosa'],\n",
       "       ['5.1', '3.8', '1.9', '0.4', 'Iris-setosa'],\n",
       "       ['4.8', '3.0', '1.4', '0.3', 'Iris-setosa'],\n",
       "       ['5.1', '3.8', '1.6', '0.2', 'Iris-setosa'],\n",
       "       ['4.6', '3.2', '1.4', '0.2', 'Iris-setosa'],\n",
       "       ['5.3', '3.7', '1.5', '0.2', 'Iris-setosa'],\n",
       "       ['5.0', '3.3', '1.4', '0.2', 'Iris-setosa'],\n",
       "       ['7.0', '3.2', '4.7', '1.4', 'Iris-versicolor'],\n",
       "       ['6.4', '3.2', '4.5', '1.5', 'Iris-versicolor'],\n",
       "       ['6.9', '3.1', '4.9', '1.5', 'Iris-versicolor'],\n",
       "       ['5.5', '2.3', '4.0', '1.3', 'Iris-versicolor'],\n",
       "       ['6.5', '2.8', '4.6', '1.5', 'Iris-versicolor'],\n",
       "       ['5.7', '2.8', '4.5', '1.3', 'Iris-versicolor'],\n",
       "       ['6.3', '3.3', '4.7', '1.6', 'Iris-versicolor'],\n",
       "       ['4.9', '2.4', '3.3', '1.0', 'Iris-versicolor'],\n",
       "       ['6.6', '2.9', '4.6', '1.3', 'Iris-versicolor'],\n",
       "       ['5.2', '2.7', '3.9', '1.4', 'Iris-versicolor'],\n",
       "       ['5.0', '2.0', '3.5', '1.0', 'Iris-versicolor'],\n",
       "       ['5.9', '3.0', '4.2', '1.5', 'Iris-versicolor'],\n",
       "       ['6.0', '2.2', '4.0', '1.0', 'Iris-versicolor'],\n",
       "       ['6.1', '2.9', '4.7', '1.4', 'Iris-versicolor'],\n",
       "       ['5.6', '2.9', '3.6', '1.3', 'Iris-versicolor'],\n",
       "       ['6.7', '3.1', '4.4', '1.4', 'Iris-versicolor'],\n",
       "       ['5.6', '3.0', '4.5', '1.5', 'Iris-versicolor'],\n",
       "       ['5.8', '2.7', '4.1', '1.0', 'Iris-versicolor'],\n",
       "       ['6.2', '2.2', '4.5', '1.5', 'Iris-versicolor'],\n",
       "       ['5.6', '2.5', '3.9', '1.1', 'Iris-versicolor'],\n",
       "       ['5.9', '3.2', '4.8', '1.8', 'Iris-versicolor'],\n",
       "       ['6.1', '2.8', '4.0', '1.3', 'Iris-versicolor'],\n",
       "       ['6.3', '2.5', '4.9', '1.5', 'Iris-versicolor'],\n",
       "       ['6.1', '2.8', '4.7', '1.2', 'Iris-versicolor'],\n",
       "       ['6.4', '2.9', '4.3', '1.3', 'Iris-versicolor'],\n",
       "       ['6.6', '3.0', '4.4', '1.4', 'Iris-versicolor'],\n",
       "       ['6.8', '2.8', '4.8', '1.4', 'Iris-versicolor'],\n",
       "       ['6.7', '3.0', '5.0', '1.7', 'Iris-versicolor'],\n",
       "       ['6.0', '2.9', '4.5', '1.5', 'Iris-versicolor'],\n",
       "       ['5.7', '2.6', '3.5', '1.0', 'Iris-versicolor'],\n",
       "       ['5.5', '2.4', '3.8', '1.1', 'Iris-versicolor'],\n",
       "       ['5.5', '2.4', '3.7', '1.0', 'Iris-versicolor'],\n",
       "       ['5.8', '2.7', '3.9', '1.2', 'Iris-versicolor'],\n",
       "       ['6.0', '2.7', '5.1', '1.6', 'Iris-versicolor'],\n",
       "       ['5.4', '3.0', '4.5', '1.5', 'Iris-versicolor'],\n",
       "       ['6.0', '3.4', '4.5', '1.6', 'Iris-versicolor'],\n",
       "       ['6.7', '3.1', '4.7', '1.5', 'Iris-versicolor'],\n",
       "       ['6.3', '2.3', '4.4', '1.3', 'Iris-versicolor'],\n",
       "       ['5.6', '3.0', '4.1', '1.3', 'Iris-versicolor'],\n",
       "       ['5.5', '2.5', '4.0', '1.3', 'Iris-versicolor'],\n",
       "       ['5.5', '2.6', '4.4', '1.2', 'Iris-versicolor'],\n",
       "       ['6.1', '3.0', '4.6', '1.4', 'Iris-versicolor'],\n",
       "       ['5.8', '2.6', '4.0', '1.2', 'Iris-versicolor'],\n",
       "       ['5.0', '2.3', '3.3', '1.0', 'Iris-versicolor'],\n",
       "       ['5.6', '2.7', '4.2', '1.3', 'Iris-versicolor'],\n",
       "       ['5.7', '3.0', '4.2', '1.2', 'Iris-versicolor'],\n",
       "       ['5.7', '2.9', '4.2', '1.3', 'Iris-versicolor'],\n",
       "       ['6.2', '2.9', '4.3', '1.3', 'Iris-versicolor'],\n",
       "       ['5.1', '2.5', '3.0', '1.1', 'Iris-versicolor'],\n",
       "       ['5.7', '2.8', '4.1', '1.3', 'Iris-versicolor'],\n",
       "       ['6.3', '3.3', '6.0', '2.5', 'Iris-virginica'],\n",
       "       ['5.8', '2.7', '5.1', '1.9', 'Iris-virginica'],\n",
       "       ['7.1', '3.0', '5.9', '2.1', 'Iris-virginica'],\n",
       "       ['6.3', '2.9', '5.6', '1.8', 'Iris-virginica'],\n",
       "       ['6.5', '3.0', '5.8', '2.2', 'Iris-virginica'],\n",
       "       ['7.6', '3.0', '6.6', '2.1', 'Iris-virginica'],\n",
       "       ['4.9', '2.5', '4.5', '1.7', 'Iris-virginica'],\n",
       "       ['7.3', '2.9', '6.3', '1.8', 'Iris-virginica'],\n",
       "       ['6.7', '2.5', '5.8', '1.8', 'Iris-virginica'],\n",
       "       ['7.2', '3.6', '6.1', '2.5', 'Iris-virginica'],\n",
       "       ['6.5', '3.2', '5.1', '2.0', 'Iris-virginica'],\n",
       "       ['6.4', '2.7', '5.3', '1.9', 'Iris-virginica'],\n",
       "       ['6.8', '3.0', '5.5', '2.1', 'Iris-virginica'],\n",
       "       ['5.7', '2.5', '5.0', '2.0', 'Iris-virginica'],\n",
       "       ['5.8', '2.8', '5.1', '2.4', 'Iris-virginica'],\n",
       "       ['6.4', '3.2', '5.3', '2.3', 'Iris-virginica'],\n",
       "       ['6.5', '3.0', '5.5', '1.8', 'Iris-virginica'],\n",
       "       ['7.7', '3.8', '6.7', '2.2', 'Iris-virginica'],\n",
       "       ['7.7', '2.6', '6.9', '2.3', 'Iris-virginica'],\n",
       "       ['6.0', '2.2', '5.0', '1.5', 'Iris-virginica'],\n",
       "       ['6.9', '3.2', '5.7', '2.3', 'Iris-virginica'],\n",
       "       ['5.6', '2.8', '4.9', '2.0', 'Iris-virginica'],\n",
       "       ['7.7', '2.8', '6.7', '2.0', 'Iris-virginica'],\n",
       "       ['6.3', '2.7', '4.9', '1.8', 'Iris-virginica'],\n",
       "       ['6.7', '3.3', '5.7', '2.1', 'Iris-virginica'],\n",
       "       ['7.2', '3.2', '6.0', '1.8', 'Iris-virginica'],\n",
       "       ['6.2', '2.8', '4.8', '1.8', 'Iris-virginica'],\n",
       "       ['6.1', '3.0', '4.9', '1.8', 'Iris-virginica'],\n",
       "       ['6.4', '2.8', '5.6', '2.1', 'Iris-virginica'],\n",
       "       ['7.2', '3.0', '5.8', '1.6', 'Iris-virginica'],\n",
       "       ['7.4', '2.8', '6.1', '1.9', 'Iris-virginica'],\n",
       "       ['7.9', '3.8', '6.4', '2.0', 'Iris-virginica'],\n",
       "       ['6.4', '2.8', '5.6', '2.2', 'Iris-virginica'],\n",
       "       ['6.3', '2.8', '5.1', '1.5', 'Iris-virginica'],\n",
       "       ['6.1', '2.6', '5.6', '1.4', 'Iris-virginica'],\n",
       "       ['7.7', '3.0', '6.1', '2.3', 'Iris-virginica'],\n",
       "       ['6.3', '3.4', '5.6', '2.4', 'Iris-virginica'],\n",
       "       ['6.4', '3.1', '5.5', '1.8', 'Iris-virginica'],\n",
       "       ['6.0', '3.0', '4.8', '1.8', 'Iris-virginica'],\n",
       "       ['6.9', '3.1', '5.4', '2.1', 'Iris-virginica'],\n",
       "       ['6.7', '3.1', '5.6', '2.4', 'Iris-virginica'],\n",
       "       ['6.9', '3.1', '5.1', '2.3', 'Iris-virginica'],\n",
       "       ['5.8', '2.7', '5.1', '1.9', 'Iris-virginica'],\n",
       "       ['6.8', '3.2', '5.9', '2.3', 'Iris-virginica'],\n",
       "       ['6.7', '3.3', '5.7', '2.5', 'Iris-virginica'],\n",
       "       ['6.7', '3.0', '5.2', '2.3', 'Iris-virginica'],\n",
       "       ['6.3', '2.5', '5.0', '1.9', 'Iris-virginica'],\n",
       "       ['6.5', '3.0', '5.2', '2.0', 'Iris-virginica'],\n",
       "       ['6.2', '3.4', '5.4', '2.3', 'Iris-virginica'],\n",
       "       ['5.9', '3.0', '5.1', '1.8', 'Iris-virginica']], dtype='<U15')"
      ]
     },
     "execution_count": 3,
     "metadata": {},
     "output_type": "execute_result"
    }
   ],
   "source": [
    "iris = 'C:\\\\Users\\Малянов\\My Study Folder\\iris.data'\n",
    "#a = np.genfromtxt(iris, delimiter=',', dtype='str', usecols=4)\n",
    "a = np.genfromtxt(iris, delimiter=',', dtype='str')\n",
    "a"
   ]
  },
  {
   "cell_type": "code",
   "execution_count": 52,
   "id": "44e4cb77",
   "metadata": {},
   "outputs": [],
   "source": [
    "#a0 = a[:, 0].astype('float')"
   ]
  },
  {
   "cell_type": "code",
   "execution_count": 53,
   "id": "edcdd45a",
   "metadata": {},
   "outputs": [
    {
     "name": "stdout",
     "output_type": "stream",
     "text": [
      "Стастики атрибутов:\n",
      "Индекс атрибута, минимум, максимум, медиана, средневзвешенное, 0,25 перцентиль, 0,75 перцентиль:\n"
     ]
    },
    {
     "data": {
      "text/plain": [
       "[[0, 4.3, 7.9, 5.8, 5.843333333333334, 5.1, 6.4],\n",
       " [1, 2.0, 4.4, 3.0, 3.0540000000000003, 2.8, 3.3],\n",
       " [2, 1.0, 6.9, 4.35, 3.758666666666666, 1.6, 5.1],\n",
       " [3, 0.1, 2.5, 1.3, 1.1986666666666668, 0.3, 1.8]]"
      ]
     },
     "execution_count": 53,
     "metadata": {},
     "output_type": "execute_result"
    }
   ],
   "source": [
    "stat_ = []\n",
    "for i in range(4):\n",
    "    aaa = a[:, i].astype('float')\n",
    "    #plt.hist(aaa)\n",
    "    stat_.append([i, np.min(aaa), np.max(aaa), np.median(aaa), np.mean(aaa), np.percentile(aaa, 25), np.percentile(aaa, 75)])\n",
    "print('Стастики атрибутов:')\n",
    "print('Индекс атрибута, минимум, максимум, медиана, средневзвешенное, 0,25 перцентиль, 0,75 перцентиль:')\n",
    "stat_"
   ]
  },
  {
   "cell_type": "code",
   "execution_count": 53,
   "id": "c568852e",
   "metadata": {},
   "outputs": [],
   "source": [
    "# 2. Гистограммы атрибутов"
   ]
  },
  {
   "cell_type": "code",
   "execution_count": 5,
   "id": "b4a6ca81",
   "metadata": {},
   "outputs": [],
   "source": [
    "import matplotlib.pyplot as plt"
   ]
  },
  {
   "cell_type": "code",
   "execution_count": null,
   "id": "ea1265e4",
   "metadata": {},
   "outputs": [],
   "source": [
    "# Гистограмма атрибута 0:"
   ]
  },
  {
   "cell_type": "code",
   "execution_count": 57,
   "id": "67110bc5",
   "metadata": {},
   "outputs": [
    {
     "data": {
      "text/plain": [
       "(array([ 9., 23., 14., 27., 16., 26., 18.,  6.,  5.,  6.]),\n",
       " array([4.3 , 4.66, 5.02, 5.38, 5.74, 6.1 , 6.46, 6.82, 7.18, 7.54, 7.9 ]),\n",
       " <BarContainer object of 10 artists>)"
      ]
     },
     "execution_count": 57,
     "metadata": {},
     "output_type": "execute_result"
    },
    {
     "data": {
      "image/png": "[encoded data removed]",
      "text/plain": [
       "<Figure size 432x288 with 1 Axes>"
      ]
     },
     "metadata": {
      "needs_background": "light"
     },
     "output_type": "display_data"
    }
   ],
   "source": [
    "a0 = a[:, 0].astype('float')\n",
    "plt.hist(a0)\n",
    "#np.histogram(a0, bins=10)"
   ]
  },
  {
   "cell_type": "code",
   "execution_count": 58,
   "id": "9fd310b1",
   "metadata": {},
   "outputs": [],
   "source": [
    "# Гистограмма атрибута 1:"
   ]
  },
  {
   "cell_type": "code",
   "execution_count": 59,
   "id": "57a808e6",
   "metadata": {},
   "outputs": [
    {
     "data": {
      "text/plain": [
       "(array([ 4.,  7., 22., 24., 38., 31.,  9., 11.,  2.,  2.]),\n",
       " array([2.  , 2.24, 2.48, 2.72, 2.96, 3.2 , 3.44, 3.68, 3.92, 4.16, 4.4 ]),\n",
       " <BarContainer object of 10 artists>)"
      ]
     },
     "execution_count": 59,
     "metadata": {},
     "output_type": "execute_result"
    },
    {
     "data": {
      "image/png": "[encoded data removed]",
      "text/plain": [
       "<Figure size 432x288 with 1 Axes>"
      ]
     },
     "metadata": {
      "needs_background": "light"
     },
     "output_type": "display_data"
    }
   ],
   "source": [
    "a1 = a[:, 1].astype('float')\n",
    "plt.hist(a1)"
   ]
  },
  {
   "cell_type": "code",
   "execution_count": 60,
   "id": "cb86844c",
   "metadata": {},
   "outputs": [],
   "source": [
    "# Гистограмма атрибута 2:"
   ]
  },
  {
   "cell_type": "code",
   "execution_count": 62,
   "id": "23f76a2f",
   "metadata": {},
   "outputs": [
    {
     "data": {
      "text/plain": [
       "(array([37., 13.,  0.,  3.,  8., 26., 29., 18., 11.,  5.]),\n",
       " array([1.  , 1.59, 2.18, 2.77, 3.36, 3.95, 4.54, 5.13, 5.72, 6.31, 6.9 ]),\n",
       " <BarContainer object of 10 artists>)"
      ]
     },
     "execution_count": 62,
     "metadata": {},
     "output_type": "execute_result"
    },
    {
     "data": {
      "image/png": "[encoded data removed]",
      "text/plain": [
       "<Figure size 432x288 with 1 Axes>"
      ]
     },
     "metadata": {
      "needs_background": "light"
     },
     "output_type": "display_data"
    }
   ],
   "source": [
    "a2 = a[:, 2].astype('float')\n",
    "plt.hist(a2)"
   ]
  },
  {
   "cell_type": "code",
   "execution_count": 61,
   "id": "74f6f861",
   "metadata": {},
   "outputs": [],
   "source": [
    "# Гистограмма атрибута 3:"
   ]
  },
  {
   "cell_type": "code",
   "execution_count": 63,
   "id": "34b11f2f",
   "metadata": {},
   "outputs": [
    {
     "data": {
      "text/plain": [
       "(array([41.,  8.,  1.,  7.,  8., 33.,  6., 23.,  9., 14.]),\n",
       " array([0.1 , 0.34, 0.58, 0.82, 1.06, 1.3 , 1.54, 1.78, 2.02, 2.26, 2.5 ]),\n",
       " <BarContainer object of 10 artists>)"
      ]
     },
     "execution_count": 63,
     "metadata": {},
     "output_type": "execute_result"
    },
    {
     "data": {
      "image/png": "[encoded data removed]",
      "text/plain": [
       "<Figure size 432x288 with 1 Axes>"
      ]
     },
     "metadata": {
      "needs_background": "light"
     },
     "output_type": "display_data"
    }
   ],
   "source": [
    "a3 = a[:, 3].astype('float')\n",
    "plt.hist(a3)"
   ]
  },
  {
   "cell_type": "code",
   "execution_count": null,
   "id": "570cd818",
   "metadata": {},
   "outputs": [],
   "source": [
    "# 4. Группировка датасета по категориям, статистики и гистограммы атрибутов в разрезе категорий"
   ]
  },
  {
   "cell_type": "code",
   "execution_count": 8,
   "id": "9826ab28",
   "metadata": {},
   "outputs": [
    {
     "name": "stdout",
     "output_type": "stream",
     "text": [
      "['Iris-setosa' 'Iris-versicolor' 'Iris-virginica']\n"
     ]
    }
   ],
   "source": [
    "a_uniq = np.unique(a[:, 4])\n",
    "print(a_uniq)"
   ]
  },
  {
   "cell_type": "code",
   "execution_count": 52,
   "id": "8a8b11eb",
   "metadata": {},
   "outputs": [],
   "source": [
    "#print(len(a))"
   ]
  },
  {
   "cell_type": "code",
   "execution_count": 51,
   "id": "c80fc2ae",
   "metadata": {},
   "outputs": [],
   "source": [
    "# bbb0 - атрибуты для категории 'Iris-setosa'\n",
    "# bbb1 - атрибуты для категории 'Iris-versicolor'\n",
    "# bbb2 - атрибуты для категории 'Iris-virginica'\n",
    "b0 = []\n",
    "b1 = []\n",
    "b2 = []\n",
    "for i in range(len(a)):\n",
    "    if a[i, 4] == a_uniq[0]:\n",
    "        b0.append(a[i, 0:4].astype('float'))\n",
    "    elif a[i, 4] == a_uniq[1]:\n",
    "        b1.append(a[i, 0:4].astype('float'))\n",
    "    elif a[i, 4] == a_uniq[2]:\n",
    "        b2.append(a[i, 0:4].astype('float'))\n",
    "    else:\n",
    "        break\n",
    "#print(len(bbb0), len(bbb1), len(bbb2))\n",
    "bbb0 = np.array(b0)\n",
    "bbb1 = np.array(b1)\n",
    "bbb2 = np.array(b2)\n",
    "#bbb2"
   ]
  },
  {
   "cell_type": "code",
   "execution_count": 48,
   "id": "3afd19e7",
   "metadata": {},
   "outputs": [
    {
     "name": "stdout",
     "output_type": "stream",
     "text": [
      "Стастики атрибутов для категории  Iris-setosa :\n",
      "Индекс атрибута, минимум, максимум, медиана, средневзвешенное, 0,25 перцентиль, 0,75 перцентиль:\n"
     ]
    },
    {
     "data": {
      "text/plain": [
       "[[0, 4.3, 5.8, 5.0, 5.006, 4.8, 5.2],\n",
       " [1, 2.3, 4.4, 3.4, 3.418, 3.125, 3.6750000000000003],\n",
       " [2, 1.0, 1.9, 1.5, 1.464, 1.4, 1.5750000000000002],\n",
       " [3, 0.1, 0.6, 0.2, 0.244, 0.2, 0.3]]"
      ]
     },
     "execution_count": 48,
     "metadata": {},
     "output_type": "execute_result"
    },
    {
     "data": {
      "image/png": "[encoded data removed]",
      "text/plain": [
       "<Figure size 432x288 with 1 Axes>"
      ]
     },
     "metadata": {
      "needs_background": "light"
     },
     "output_type": "display_data"
    }
   ],
   "source": [
    "stat_0 = []\n",
    "\n",
    "for j in range(4):\n",
    "    aaa = bbb0[:, j]\n",
    "    stat_0.append([j, np.min(aaa), np.max(aaa), np.median(aaa), np.mean(aaa), np.percentile(aaa, 25), np.percentile(aaa, 75)])\n",
    "    plt.hist(aaa)\n",
    "print('Стастики атрибутов для категории ', a_uniq[0], ':')\n",
    "print('Индекс атрибута, минимум, максимум, медиана, средневзвешенное, 0,25 перцентиль, 0,75 перцентиль:')\n",
    "stat_0\n"
   ]
  },
  {
   "cell_type": "code",
   "execution_count": 49,
   "id": "e44b86dc",
   "metadata": {},
   "outputs": [
    {
     "name": "stdout",
     "output_type": "stream",
     "text": [
      "Стастики атрибутов для категории  Iris-versicolor :\n",
      "Индекс атрибута, минимум, максимум, медиана, средневзвешенное, 0,25 перцентиль, 0,75 перцентиль:\n"
     ]
    },
    {
     "data": {
      "text/plain": [
       "[[0, 4.9, 7.0, 5.9, 5.936, 5.6, 6.3],\n",
       " [1, 2.0, 3.4, 2.8, 2.7700000000000005, 2.525, 3.0],\n",
       " [2, 3.0, 5.1, 4.35, 4.26, 4.0, 4.6],\n",
       " [3, 1.0, 1.8, 1.3, 1.3259999999999998, 1.2, 1.5]]"
      ]
     },
     "execution_count": 49,
     "metadata": {},
     "output_type": "execute_result"
    },
    {
     "data": {
      "image/png": "[encoded data removed]",
      "text/plain": [
       "<Figure size 432x288 with 1 Axes>"
      ]
     },
     "metadata": {
      "needs_background": "light"
     },
     "output_type": "display_data"
    }
   ],
   "source": [
    "stat_1 = []\n",
    "\n",
    "for j in range(4):\n",
    "    aaa = bbb1[:, j]\n",
    "    stat_1.append([j, np.min(aaa), np.max(aaa), np.median(aaa), np.mean(aaa), np.percentile(aaa, 25), np.percentile(aaa, 75)])\n",
    "    plt.hist(aaa)\n",
    "print('Стастики атрибутов для категории ', a_uniq[1], ':')\n",
    "print('Индекс атрибута, минимум, максимум, медиана, средневзвешенное, 0,25 перцентиль, 0,75 перцентиль:')\n",
    "stat_1"
   ]
  },
  {
   "cell_type": "code",
   "execution_count": 50,
   "id": "773b0f58",
   "metadata": {},
   "outputs": [
    {
     "name": "stdout",
     "output_type": "stream",
     "text": [
      "Стастики атрибутов для категории  Iris-virginica :\n",
      "Индекс атрибута, минимум, максимум, медиана, средневзвешенное, 0,25 перцентиль, 0,75 перцентиль:\n"
     ]
    },
    {
     "data": {
      "text/plain": [
       "[[0, 4.9, 7.9, 6.5, 6.587999999999998, 6.225, 6.9],\n",
       " [1, 2.2, 3.8, 3.0, 2.974, 2.8, 3.1750000000000003],\n",
       " [2, 4.5, 6.9, 5.55, 5.5520000000000005, 5.1, 5.875],\n",
       " [3, 1.4, 2.5, 2.0, 2.0260000000000002, 1.8, 2.3]]"
      ]
     },
     "execution_count": 50,
     "metadata": {},
     "output_type": "execute_result"
    },
    {
     "data": {
      "image/png": "[encoded data removed]",
      "text/plain": [
       "<Figure size 432x288 with 1 Axes>"
      ]
     },
     "metadata": {
      "needs_background": "light"
     },
     "output_type": "display_data"
    }
   ],
   "source": [
    "stat_2 = []\n",
    "\n",
    "for j in range(4):\n",
    "    aaa = bbb2[:, j]\n",
    "    stat_2.append([j, np.min(aaa), np.max(aaa), np.median(aaa), np.mean(aaa), np.percentile(aaa, 25), np.percentile(aaa, 75)])\n",
    "    plt.hist(aaa)\n",
    "print('Стастики атрибутов для категории ', a_uniq[2], ':')\n",
    "print('Индекс атрибута, минимум, максимум, медиана, средневзвешенное, 0,25 перцентиль, 0,75 перцентиль:')\n",
    "stat_2"
   ]
  },
  {
   "cell_type": "code",
   "execution_count": null,
   "id": "ec473093",
   "metadata": {},
   "outputs": [],
   "source": []
  }
 ],
 "metadata": {
  "kernelspec": {
   "display_name": "Python 3",
   "language": "python",
   "name": "python3"
  },
  "language_info": {
   "codemirror_mode": {
    "name": "ipython",
    "version": 3
   },
   "file_extension": ".py",
   "mimetype": "text/x-python",
   "name": "python",
   "nbconvert_exporter": "python",
   "pygments_lexer": "ipython3",
   "version": "3.8.8"
  }
 },
 "nbformat": 4,
 "nbformat_minor": 5
}
